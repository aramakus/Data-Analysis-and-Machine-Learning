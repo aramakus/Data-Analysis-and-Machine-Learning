{
 "cells": [
  {
   "cell_type": "markdown",
   "id": "aware-spectacular",
   "metadata": {},
   "source": [
    "The textbook example of the Jack's car rental problem with the limit of 20 cars per rental."
   ]
  },
  {
   "cell_type": "code",
   "execution_count": 1,
   "id": "acknowledged-planner",
   "metadata": {},
   "outputs": [],
   "source": [
    "import numpy as np\n",
    "from scipy.stats import poisson\n",
    "import matplotlib.pyplot as plt"
   ]
  },
  {
   "cell_type": "code",
   "execution_count": 2,
   "id": "multiple-candidate",
   "metadata": {},
   "outputs": [],
   "source": [
    "N_MAX_CARS = 20\n",
    "\n",
    "A_MAX = 5\n",
    "\n",
    "LAMBDA = [3, 4]\n",
    "\n",
    "MU = [3, 2]\n",
    "\n",
    "GAMMA = 0.9\n",
    "\n",
    "R_A = -2\n",
    "\n",
    "R_X = 10"
   ]
  },
  {
   "cell_type": "markdown",
   "id": "existing-protocol",
   "metadata": {},
   "source": [
    "### Calculate Reward matrix"
   ]
  },
  {
   "cell_type": "code",
   "execution_count": 3,
   "id": "indirect-toolbox",
   "metadata": {},
   "outputs": [],
   "source": [
    "# Reward as a function of (N1'', N2'')\n",
    "# Total reward is R_X + R_A * |a|\n",
    "def right_tail(p):\n",
    "    \"\"\"\n",
    "    Adjust the last value to account for an overflow over N_MAX_CARS\n",
    "    \"\"\"\n",
    "    p[-1] = 1 - np.sum(p[:-1])\n",
    "    return p\n",
    "\n",
    "\n",
    "def make_reward_xi(Lambda):\n",
    "    \"\"\"\n",
    "    Rewards(Xi) = sum_i^{Ni''} Xi p(Xi | lambda, Ni'')\n",
    "    \"\"\"\n",
    "    X = np.arange(N_MAX_CARS + 1)\n",
    "\n",
    "    p = poisson.pmf(X, Lambda)\n",
    "    Ex = np.zeros(X.shape)\n",
    "    \n",
    "    for N__ in range(N_MAX_CARS + 1):\n",
    "        p_N__ = right_tail(p[:N__ + 1].copy())\n",
    "        Ex[N__] = np.sum(X[:N__ + 1] * p_N__)\n",
    "\n",
    "    return Ex\n",
    "\n",
    "R_N1 = make_reward_xi(LAMBDA[0])\n",
    "R_N2 = make_reward_xi(LAMBDA[1])\n",
    "\n",
    "R_N__ = R_X * (R_N1[:, np.newaxis] + R_N2)  # R_X[N1\", N2\"]"
   ]
  },
  {
   "cell_type": "markdown",
   "id": "bacterial-lindsay",
   "metadata": {},
   "source": [
    "### Calculate Transition Probabilities"
   ]
  },
  {
   "cell_type": "code",
   "execution_count": 4,
   "id": "frequent-cherry",
   "metadata": {},
   "outputs": [],
   "source": [
    "def make_likelihood(Lambda, Mu):\n",
    "    \"\"\"\n",
    "    Create P(Ni' | Ni\")\n",
    "    \"\"\"\n",
    "    P = np.zeros((N_MAX_CARS + 1, N_MAX_CARS + 1))\n",
    "    \n",
    "    N = np.arange(N_MAX_CARS + 1)\n",
    "    p = poisson.pmf(N, Lambda)\n",
    "    px = []   \n",
    "    for i in N: px.append(right_tail(p[:i+1].copy()))\n",
    "    \n",
    "    p = poisson.pmf(N, Mu)\n",
    "    py = []\n",
    "    for i in N: py.append(right_tail(p[:i+1].copy()))\n",
    "    \n",
    "    for N__ in range(N_MAX_CARS + 1):\n",
    "        px_N__ = px[N__]\n",
    "\n",
    "        for N_ in range(N_MAX_CARS + 1):     \n",
    "            for x in range(N__ + 1):\n",
    "                py_N_ = py[N_MAX_CARS - N__ + x]\n",
    "\n",
    "                y = N_ - N__ + x\n",
    "                if y < 0: continue\n",
    "\n",
    "                P[N_, N__] += px_N__[x] * py_N_[y]\n",
    "            \n",
    "    return P"
   ]
  },
  {
   "cell_type": "code",
   "execution_count": 5,
   "id": "increasing-warner",
   "metadata": {},
   "outputs": [],
   "source": [
    "P1 = make_likelihood(LAMBDA[0], MU[0])\n",
    "P2 = make_likelihood(LAMBDA[1], MU[1])"
   ]
  },
  {
   "cell_type": "code",
   "execution_count": 6,
   "id": "sensitive-groove",
   "metadata": {},
   "outputs": [
    {
     "data": {
      "text/plain": [
       "array([1., 1., 1., 1., 1., 1., 1., 1., 1., 1., 1., 1., 1., 1., 1., 1., 1.,\n",
       "       1., 1., 1., 1.])"
      ]
     },
     "execution_count": 6,
     "metadata": {},
     "output_type": "execute_result"
    }
   ],
   "source": [
    "# Check the norm for conditional probability sum_N p(N | M) = 1\n",
    "np.sum(P2, axis=0)"
   ]
  },
  {
   "cell_type": "markdown",
   "id": "particular-albuquerque",
   "metadata": {},
   "source": [
    "### Iterate Value"
   ]
  },
  {
   "cell_type": "code",
   "execution_count": 7,
   "id": "stupid-fundamental",
   "metadata": {},
   "outputs": [],
   "source": [
    "Value = np.zeros((N_MAX_CARS + 1, N_MAX_CARS + 1))\n",
    "Policy = np.zeros((N_MAX_CARS + 1, N_MAX_CARS + 1), dtype=np.int16)"
   ]
  },
  {
   "cell_type": "code",
   "execution_count": 8,
   "id": "israeli-teacher",
   "metadata": {},
   "outputs": [],
   "source": [
    "def IterValue(value, policy, toll=1e-3, max_iter=100):\n",
    "    \"\"\"\n",
    "    Iterate value until maximum difference between sucsessive iteration is under tollerance threshold.\n",
    "    \"\"\"\n",
    "    delta = 1\n",
    "    it = 0\n",
    "    \n",
    "    while delta > toll and it < max_iter:\n",
    "        it += 1\n",
    "\n",
    "        value_new = np.zeros(value.shape)\n",
    "        # Combine all matrixes in (N_, N__) on the right-hand-side of the Bellmans Equation\n",
    "        RHS_N__ = R_N__ + GAMMA * P1.T.dot(value).dot(P2)\n",
    "\n",
    "        for N1 in range(value.shape[0]):\n",
    "            for N2 in range(value.shape[1]):\n",
    "                a = policy[N1, N2]\n",
    "                N1__ = N1 - a\n",
    "                N2__ = N2 + a\n",
    "                \n",
    "                if N1__ < 0 or N1__ > N_MAX_CARS: continue\n",
    "                if N2__ < 0 or N2__ > N_MAX_CARS: continue\n",
    "\n",
    "                value_new[N1, N2] = RHS_N__[N1__, N2__] + R_A * abs(a)\n",
    "\n",
    "        delta = np.max(np.abs(value - value_new))\n",
    "        value = value_new\n",
    "    \n",
    "    if (it < max_iter): print(f\"Value iteration converged in {it} iterations.\")\n",
    "    else: print(f\"Too many iteration. Final delta --- {delta}.\")\n",
    "        \n",
    "    return value"
   ]
  },
  {
   "cell_type": "code",
   "execution_count": 9,
   "id": "essential-japan",
   "metadata": {},
   "outputs": [
    {
     "name": "stdout",
     "output_type": "stream",
     "text": [
      "Too many iteration. Final delta --- 0.0014313359032485096.\n",
      "CPU times: user 261 ms, sys: 0 ns, total: 261 ms\n",
      "Wall time: 285 ms\n"
     ]
    }
   ],
   "source": [
    "%%time\n",
    "Value = IterValue(Value, Policy)"
   ]
  },
  {
   "cell_type": "markdown",
   "id": "geographic-default",
   "metadata": {},
   "source": [
    "### Improve Policy"
   ]
  },
  {
   "cell_type": "code",
   "execution_count": 10,
   "id": "changing-procedure",
   "metadata": {},
   "outputs": [],
   "source": [
    "def ImrovePolicy(value, policy):\n",
    "    \"\"\"\n",
    "    Apply policy improvement part of the algorithm.\n",
    "    \"\"\"\n",
    "    # Combine all matrixes in (N_, N__) on the right-hand-side of the Bellmans Equation\n",
    "    RHS_N__ = R_N__ + GAMMA * P1.T.dot(value).dot(P2)\n",
    "\n",
    "    for N1 in range(value.shape[0]):\n",
    "        for N2 in range(value.shape[1]):\n",
    "            v_max = -np.inf\n",
    "            a_max = 0\n",
    "            for a in range(-A_MAX, A_MAX + 1):\n",
    "                N1__ = N1 - a\n",
    "                N2__ = N2 + a\n",
    "                              \n",
    "                if N1__ < 0 or N1__ > N_MAX_CARS: continue\n",
    "                if N2__ < 0 or N2__ > N_MAX_CARS: continue\n",
    "                \n",
    "                v_candidate = RHS_N__[N1__, N2__] + R_A * abs(a)\n",
    "                \n",
    "                if v_candidate > v_max:\n",
    "                    v_max = v_candidate\n",
    "                    a_max = a\n",
    "            \n",
    "            policy[N1, N2] = a_max\n",
    "\n",
    "    return policy"
   ]
  },
  {
   "cell_type": "code",
   "execution_count": 11,
   "id": "matched-excess",
   "metadata": {},
   "outputs": [
    {
     "name": "stdout",
     "output_type": "stream",
     "text": [
      "Value iteration converged in 4 iterations.\n",
      "CPU times: user 27.5 ms, sys: 207 µs, total: 27.7 ms\n",
      "Wall time: 26.4 ms\n"
     ]
    }
   ],
   "source": [
    "%%time\n",
    "Policy = IterValue(Value, Policy)"
   ]
  },
  {
   "cell_type": "markdown",
   "id": "unique-warehouse",
   "metadata": {},
   "source": [
    "## Iterative Policy Optimisation Algorithm"
   ]
  },
  {
   "cell_type": "code",
   "execution_count": 12,
   "id": "injured-disposition",
   "metadata": {},
   "outputs": [],
   "source": [
    "# Initialize Policy and Value\n",
    "Value = np.zeros((N_MAX_CARS + 1, N_MAX_CARS + 1))\n",
    "Policy = np.zeros((N_MAX_CARS + 1, N_MAX_CARS + 1), dtype=np.int16)\n",
    "\n",
    "it = 0\n",
    "plt.rcParams.update({'font.size': 22})"
   ]
  },
  {
   "cell_type": "code",
   "execution_count": 17,
   "id": "surgical-tobago",
   "metadata": {},
   "outputs": [
    {
     "name": "stdout",
     "output_type": "stream",
     "text": [
      "Value iteration converged in 7 iterations.\n"
     ]
    },
    {
     "data": {
      "image/png": "[encoded data removed]",
      "text/plain": [
       "<Figure size 864x720 with 2 Axes>"
      ]
     },
     "metadata": {
      "needs_background": "light"
     },
     "output_type": "display_data"
    }
   ],
   "source": [
    "# Re-run this cell for further iterations\n",
    "\n",
    "Value = IterValue(Value, Policy, toll=1e-3)\n",
    "Policy = ImrovePolicy(Value, Policy)\n",
    "\n",
    "plt.figure(figsize=(12, 10))\n",
    "plot = plt.imshow(Policy, cmap=plt.get_cmap(\"Blues\"))\n",
    "plt.gca().invert_yaxis()\n",
    "\n",
    "bounds = np.arange(-A_MAX, A_MAX + 1)\n",
    "\n",
    "plt.colorbar(plot, boundaries=bounds, ticks=bounds)\n",
    "plt.title(f\"Policy at iteration {it}\")\n",
    "plt.xlabel(\"Number of cars at P2\")\n",
    "plt.ylabel(\"Number of cars at P1\")\n",
    "plt.yticks(np.arange(0, 21, 5))\n",
    "plt.xticks(np.arange(0, 21, 5))\n",
    "plt.show()\n",
    "\n",
    "it += 1\n",
    "None"
   ]
  },
  {
   "cell_type": "code",
   "execution_count": 18,
   "id": "requested-charity",
   "metadata": {},
   "outputs": [
    {
     "data": {
      "image/png": "[encoded data removed]",
      "text/plain": [
       "<Figure size 864x720 with 2 Axes>"
      ]
     },
     "metadata": {
      "needs_background": "light"
     },
     "output_type": "display_data"
    }
   ],
   "source": [
    "plt.figure(figsize=(12, 10))\n",
    "plot = plt.imshow(Value)\n",
    "plt.gca().invert_yaxis()\n",
    "plt.colorbar(plot)\n",
    "\n",
    "plt.title(f\"Value for converged Policy\")\n",
    "plt.xlabel(\"Number of cars at P2\")\n",
    "plt.ylabel(\"Number of cars at P1\")\n",
    "plt.yticks(np.arange(0, 21, 5))\n",
    "plt.xticks(np.arange(0, 21, 5))\n",
    "plt.show()\n",
    "None"
   ]
  },
  {
   "cell_type": "code",
   "execution_count": null,
   "id": "noted-monitor",
   "metadata": {},
   "outputs": [],
   "source": []
  }
 ],
 "metadata": {
  "kernelspec": {
   "display_name": "Python 3",
   "language": "python",
   "name": "python3"
  },
  "language_info": {
   "codemirror_mode": {
    "name": "ipython",
    "version": 3
   },
   "file_extension": ".py",
   "mimetype": "text/x-python",
   "name": "python",
   "nbconvert_exporter": "python",
   "pygments_lexer": "ipython3",
   "version": "3.8.5"
  }
 },
 "nbformat": 4,
 "nbformat_minor": 5
}
